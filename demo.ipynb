{
 "cells": [
  {
   "cell_type": "code",
   "execution_count": 1,
   "metadata": {},
   "outputs": [],
   "source": [
    "from GNN.MolToGraph import create_pyg_data_lst\n",
    "import pandas as pd\n",
    "import torch\n",
    "from sklearn.model_selection import train_test_split\n",
    "from sklearn.metrics import matthews_corrcoef\n",
    "from torch_geometric.data import DataLoader\n",
    "\n",
    "from GNN.GNNModel import GNNModel\n",
    "from GNN.GraphGNNModel import GraphGNNModel\n",
    "import logging"
   ]
  },
  {
   "cell_type": "code",
   "execution_count": 2,
   "metadata": {},
   "outputs": [],
   "source": [
    "logging.basicConfig(level=logging.INFO)\n",
    "logger = logging.getLogger(__name__)"
   ]
  },
  {
   "cell_type": "markdown",
   "metadata": {},
   "source": [
    "深度学习的 4 大步骤：1、数据定义；2、model 定义；3、找损失函数，优化器；4、模型训练过程"
   ]
  },
  {
   "cell_type": "code",
   "execution_count": 3,
   "metadata": {},
   "outputs": [],
   "source": [
    "# ----------------- config -----------------\n",
    "device = torch.device('mps') # mac版本是'mps'\n",
    "# ------------------------------------------"
   ]
  },
  {
   "cell_type": "code",
   "execution_count": 4,
   "metadata": {},
   "outputs": [
    {
     "name": "stderr",
     "output_type": "stream",
     "text": [
      "/Users/fl/miniconda3/envs/gnn/lib/python3.8/site-packages/torch_geometric/deprecation.py:26: UserWarning: 'data.DataLoader' is deprecated, use 'loader.DataLoader' instead\n",
      "  warnings.warn(out)\n"
     ]
    }
   ],
   "source": [
    "# ----------------- STEP1 数据定义 -----------------\n",
    "solv = pd.read_csv('data/FreeSolv.tsv', sep=';')\n",
    "smiles = solv['SMILES'].values\n",
    "\n",
    "train_idx, test_idx = train_test_split(range(len(smiles)), test_size=0.2, random_state=0)\n",
    "smiles_train, smiles_test = smiles[train_idx], smiles[test_idx]\n",
    "\n",
    "y = (solv['experimental value (kcal/mol)']<= solv['experimental value (kcal/mol)'].median()).astype(int)\n",
    "y_train, y_test = y[train_idx], y[test_idx]\n",
    "\n",
    "train_loader = DataLoader(create_pyg_data_lst(smiles_train, y_train, device='mps'), batch_size=16)\n",
    "test_loader = DataLoader(create_pyg_data_lst(smiles_test, y_test, device='mps'), batch_size=16)"
   ]
  },
  {
   "cell_type": "code",
   "execution_count": 5,
   "metadata": {},
   "outputs": [],
   "source": [
    "# ----------------- STEP2 模型定义 -----------------\n",
    "model = GraphGNNModel(\n",
    "    D_in=79,\n",
    "    D_hidden=256,\n",
    "    D_out=1,\n",
    "    dp_rate_linear=0.5,\n",
    "    dp_rate=0.0,\n",
    "    num_layers=3,\n",
    "    ).to(device)"
   ]
  },
  {
   "cell_type": "code",
   "execution_count": 6,
   "metadata": {},
   "outputs": [],
   "source": [
    "# ----------------- STEP3 定义优化器-----------------\n",
    "optimizer = torch.optim.Adam(model.parameters(), lr=0.001)\n",
    "# ----------------- STEP4 定义损失函数 -----------------\n",
    "criterion = torch.nn.BCEWithLogitsLoss() # BCEWithLogitsLoss内部已经嵌入了sigmoid函数，并计算交叉熵损失\n",
    "\n",
    "metric = matthews_corrcoef"
   ]
  },
  {
   "cell_type": "code",
   "execution_count": null,
   "metadata": {},
   "outputs": [],
   "source": [
    "# ------------------ STEP5 训练 -----------------\n",
    "for epoch in range(100):\n",
    "    for batch in train_loader:\n",
    "        x, edge_index, batch_idx = batch.x, batch.edge_index, batch.batch\n",
    "        outputs = model(x, edge_index, batch_idx)\n",
    "        # outputs = outputs.squeeze(dim=-1) # 去掉最后一维\n",
    "        # optimizer.zero_grad()\n",
    "        # loss = criterion(outputs, batch.y)\n",
    "        # loss.backward()\n",
    "        # optimizer.step()\n",
    "        # print('epoch:', epoch, 'loss:', loss.item())\n",
    "        \n",
    "        # model.eval()\n",
    "\n",
    "        # with torch.no_grad():\n",
    "        #     val_outputs, val_y = [], []\n",
    "        #     for val_batch in test_loader:\n",
    "        #         val_x, val_edge_index, val_batch_idx = val_batch.x, val_batch.edge_index, val_batch.batch\n",
    "        #         y_pred = model(val_x, val_edge_index, val_batch_idx)\n",
    "        #         y_pred = outputs.squeeze(dim=-1)\n",
    "        #         val_outputs.append(y_pred)\n",
    "        #         val_y.append(val_batch.y)\n",
    "\n",
    "        # val_outputs = torch.cat(val_outputs).cpu()\n",
    "        # val_y = torch.cat(val_y).cpu()\n",
    "\n",
    "        # val_loss = criterion(val_outputs, val_y)\n",
    "        # val_metric = metric(val_y, val_outputs)\n",
    "        # logger.info(\n",
    "        #             f\"Epoch: {epoch + 1:3d}/{epoch:3d} |\"\n",
    "        #             f\" val loss: {val_loss:8.3f} | val metric: {val_metric:8.3f}\"\n",
    "        #         )"
   ]
  }
 ],
 "metadata": {
  "kernelspec": {
   "display_name": "gnn",
   "language": "python",
   "name": "python3"
  },
  "language_info": {
   "codemirror_mode": {
    "name": "ipython",
    "version": 3
   },
   "file_extension": ".py",
   "mimetype": "text/x-python",
   "name": "python",
   "nbconvert_exporter": "python",
   "pygments_lexer": "ipython3",
   "version": "3.8.19"
  }
 },
 "nbformat": 4,
 "nbformat_minor": 2
}
