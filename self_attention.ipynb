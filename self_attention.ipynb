{
 "cells": [
  {
   "cell_type": "markdown",
   "metadata": {},
   "source": [
    "## 自注意力机制的学习"
   ]
  },
  {
   "cell_type": "markdown",
   "metadata": {},
   "source": [
    "$$\n",
    "\\text{Attention}(Q, K, V) = \\text{softmax}\\left(\\frac{QK^T}{\\sqrt{d_k}}\\right) V\n",
    "$$"
   ]
  },
  {
   "cell_type": "markdown",
   "metadata": {},
   "source": [
    "- Q：查询矩阵, 表示当前处理的输入元素\n",
    "- K：键矩阵, 表示输入元素的特征元素\n",
    "- V：值矩阵, 是么个输入元素所有包含的信息, 当计算出与查询的匹配程度（通过键）后，最终需要提取活聚合的信息\n",
    "- dk：键向量的维度\n",
    "- QKT：查询与键的点积\n",
    "- softmax：用于将点积结果归一化为概率分布"
   ]
  },
  {
   "cell_type": "code",
   "execution_count": null,
   "metadata": {
    "vscode": {
     "languageId": "plaintext"
    }
   },
   "outputs": [],
   "source": []
  }
 ],
 "metadata": {
  "language_info": {
   "name": "python"
  }
 },
 "nbformat": 4,
 "nbformat_minor": 2
}
