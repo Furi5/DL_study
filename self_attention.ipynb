{
 "cells": [
  {
   "cell_type": "markdown",
   "metadata": {},
   "source": [
    "## 1. 自注意力机制的学习"
   ]
  },
  {
   "cell_type": "markdown",
   "metadata": {},
   "source": [
    "$$\n",
    "\\text{Attention}(Q, K, V) = \\text{softmax}\\left(\\frac{QK^T}{\\sqrt{d_k}}\\right) V\n",
    "$$"
   ]
  },
  {
   "cell_type": "markdown",
   "metadata": {},
   "source": [
    "- Q：查询矩阵, 表示当前处理的输入元素\n",
    "- K：键矩阵, 表示输入元素的特征元素\n",
    "- V：值矩阵, 是么个输入元素所有包含的信息, 当计算出与查询的匹配程度（通过键）后，最终需要提取活聚合的信息\n",
    "- dk：键向量的维度\n",
    "- QKT：查询与键的点积\n",
    "- softmax：用于将点积结果归一化为概率分布"
   ]
  },
  {
   "cell_type": "code",
   "execution_count": 45,
   "metadata": {},
   "outputs": [
    {
     "name": "stdout",
     "output_type": "stream",
     "text": [
      "scores [0.7  1.74 2.78 3.82 4.86 5.9 ]\n",
      "sqrt_dk 2.0\n",
      "scale_scores [0.35 0.87 1.39 1.91 2.43 2.95]\n",
      "weights [0.0315077  0.05299682 0.08914212 0.14993952 0.25220241 0.42421143]\n",
      "output [1.62438656 1.72438656 1.82438656 1.92438656]\n"
     ]
    }
   ],
   "source": [
    "import numpy as np\n",
    "\n",
    "# 输入序列\n",
    "tokens = [\n",
    "    \"The\", \"cat\", \"sat\", \"on\", \"the\", \"mat\"\n",
    "]\n",
    "\n",
    "\n",
    "Q = K = V =[\n",
    "    [0.1, 0.2, 0.3, 0.4], # The\n",
    "    [0.5, 0.6, 0.7, 0.8], # cat\n",
    "    [0.9, 1.0, 1.1, 1.2], # sat\n",
    "    [1.3, 1.4, 1.5, 1.6], # on\n",
    "    [1.7, 1.8, 1.9, 2.0], # the\n",
    "    [2.1, 2.2, 2.3, 2.4]  # mat  \n",
    "]\n",
    "\n",
    "Q = np.array(Q)\n",
    "K = np.array(K)\n",
    "V = np.array(V)\n",
    "\n",
    "# Q[1]与 K 的每行做点积\n",
    "scores = np.dot(Q[1], K.T)\n",
    "print(\"scores\", scores)\n",
    "\n",
    "\n",
    "sqrt_dk = np.sqrt(K.shape[1])\n",
    "print('sqrt_dk',sqrt_dk)\n",
    "\n",
    "scale_scores = scores / sqrt_dk\n",
    "print('scale_scores',scale_scores)\n",
    "\n",
    "\n",
    "def softmax(x):\n",
    "    # 将一组实数转换为0-1 之间的概率分布\n",
    "    return np.exp(x) / np.sum(np.exp(x), axis=0)\n",
    "\n",
    "weights = softmax(scale_scores)\n",
    "print('weights',weights)\n",
    "\n",
    "output = np.dot(weights, V)\n",
    "print('output',output)\n",
    "# 这就是 cat 注意力机制的最终输出"
   ]
  },
  {
   "cell_type": "markdown",
   "metadata": {},
   "source": [
    "## 2. 多头注意力"
   ]
  },
  {
   "cell_type": "markdown",
   "metadata": {},
   "source": [
    "多头注意力通过将查询、键、值向量分割成多个较小的矩阵，称为头，然后分别进行自注意力的计算，最后将所有头的输出合并起来。\n",
    "优势：\n",
    "1. 捕获词元之间的不同语义和语法关系。\n",
    "2. 增加模型的容量和表达性\n",
    "3. 提高模型并行化和效率\n",
    "4. \n",
    "$$\n",
    "\\text{MultiHead}(Q, K, V) = \\text{Concat}(\\text{head}_1, \\ldots, \\text{head}_h)W^O\n",
    "$$\n",
    "\n",
    "其中，每个注意力头 $\\text{head}_i$ 的计算公式为：\n",
    "\n",
    "$$\n",
    "\\text{head}_i = \\text{Attention}(QW_i^Q, KW_i^K, VW_i^V)\n",
    "$$\n",
    "\n",
    "注意力函数 $\\text{Attention}(Q, K, V)$ 使用缩放点积注意力计算：\n",
    "\n",
    "$$\n",
    "\\text{Attention}(Q, K, V) = \\text{softmax}\\left(\\frac{QK^T}{\\sqrt{d_k}}\\right)V\n",
    "$$\n",
    "\n",
    "## 符号说明\n",
    "- $W_i^Q$,  $W_i^K$ , $W_i^V$: 用于第i个注意力头的查询、键和值的权重矩阵。\n",
    "- $W^O$: 用于将所有注意力头输出连接后的权重矩阵。\n",
    "- $h$: 注意力头的数量。\n",
    "- $d_k$: 键向量的维度。\n",
    "- $text{Concat}$: 将所有头的输出进行连接操作。"
   ]
  },
  {
   "cell_type": "code",
   "execution_count": null,
   "metadata": {},
   "outputs": [],
   "source": []
  }
 ],
 "metadata": {
  "kernelspec": {
   "display_name": "gnn",
   "language": "python",
   "name": "python3"
  },
  "language_info": {
   "codemirror_mode": {
    "name": "ipython",
    "version": 3
   },
   "file_extension": ".py",
   "mimetype": "text/x-python",
   "name": "python",
   "nbconvert_exporter": "python",
   "pygments_lexer": "ipython3",
   "version": "3.8.19"
  }
 },
 "nbformat": 4,
 "nbformat_minor": 2
}
