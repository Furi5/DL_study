{
 "cells": [
  {
   "cell_type": "code",
   "execution_count": 1,
   "metadata": {},
   "outputs": [],
   "source": [
    "import torch"
   ]
  },
  {
   "cell_type": "code",
   "execution_count": null,
   "metadata": {},
   "outputs": [],
   "source": [
    "# 所有的模型都要继承自 Module\n",
    "class LinearModel(torch.nn.Module):\n",
    "    # __init__ 和 forward函数是必须的模版\n",
    "    # 构造函数，初始化对象\n",
    "    def __init__(self):\n",
    "        # 调用父类（即torch.nn.Module）初始化方法\n",
    "        super(LinearModel, self).__init__() # 确保创建 LinearModel 实例时，也会调用父类 torch.nn.Module的构造函数 just do it\n",
    "        # torch.nn.Linear 是 pytorch 里面的一个类，用于构造对象，包含权重和偏置，也是继承自 Module。\n",
    "        self.linear = torch.nn.Linear(1,1)\n",
    "    # forward，前馈要执行的计算\n",
    "    def forward(self, x):\n",
    "        y_pred = self.linear(x) #对象加（），表示面向对象\n",
    "        return y_pred\n",
    "    # Module 里面会自动有 backward\n",
    "    \n",
    "     \n",
    "model = LinearModel() # 实例化\n",
    "\n",
    "# 调用的时候直接 model(x)"
   ]
  },
  {
   "cell_type": "code",
   "execution_count": null,
   "metadata": {},
   "outputs": [],
   "source": [
    "# 构造损失函数和优化器\n",
    "criterion = torch.nn.MSEloss(size_average=False) # 继承 nn.Module\n",
    "optimizer = torch.optim.SGD(model.parameters(), lr=0.01)\n",
    "\n"
   ]
  }
 ],
 "metadata": {
  "kernelspec": {
   "display_name": "DTox",
   "language": "python",
   "name": "python3"
  },
  "language_info": {
   "codemirror_mode": {
    "name": "ipython",
    "version": 3
   },
   "file_extension": ".py",
   "mimetype": "text/x-python",
   "name": "python",
   "nbconvert_exporter": "python",
   "pygments_lexer": "ipython3",
   "version": "3.8.18"
  }
 },
 "nbformat": 4,
 "nbformat_minor": 2
}
